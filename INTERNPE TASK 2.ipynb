{
 "cells": [
  {
   "cell_type": "markdown",
   "id": "4c947a8a",
   "metadata": {},
   "source": [
    "# INTERNPE"
   ]
  },
  {
   "cell_type": "markdown",
   "id": "c08b57a7",
   "metadata": {},
   "source": [
    "#### PYTHON PROGRAMMING TASK 2\n",
    "\n",
    "#### DIGITAL CLOCK\n",
    "\n",
    "#### NAME: PALAK KALPAK PATIL"
   ]
  },
  {
   "cell_type": "code",
   "execution_count": 1,
   "id": "dab21619",
   "metadata": {},
   "outputs": [],
   "source": [
    "from tkinter import *\n",
    "from datetime import datetime\n",
    "from time import strftime\n",
    "\n",
    "WIN =  Tk()\n",
    "WIN.maxsize(600, 120)\n",
    "WIN.resizable(False, False)\n",
    "WIN.configure(bg=\"black\")\n",
    "WIN.title(\"DIGITAL CLOCK\") \n",
    "\n",
    "def stay_on_top():\n",
    "   WIN.lift()\n",
    "   WIN.after(2000, stay_on_top)\n",
    "\n",
    "a = datetime.today().strftime(\"%A\")\n",
    "b = (a.upper())\n",
    "c = (b[0:3]) \n",
    "\n",
    "frame =  Frame(WIN, width=2000, height=500, bg=\"black\")\n",
    "frame.pack(expand=True)\n",
    "\n",
    "def time():\n",
    "\n",
    "    a = strftime(\"%H : %M : %S\")\n",
    "    label.config(text= a)\n",
    "    label.after(1000, time)\n",
    "\n",
    "label = Label(frame, font=(\"Century Gothic\", 50), bg=\"black\", fg=\"white\")\n",
    "\n",
    "label.place(x=20, y=10)\n",
    "time()\n",
    "\n",
    "label1 = Label(frame, font=('Century Gothic',50), bg='black', fg='white')\n",
    "label1.config(text=c)\n",
    "label1.place(x=400, y=15)\n",
    "\n",
    "label1 = Label(frame, font=('Century Gothic',50), bg='black', fg='white', text='|')\n",
    "label1.place(x=355, y=10)\n",
    "\n",
    "def labels():\n",
    "\n",
    "    label2=Label(frame, font=('Century Gothic',10),bg='#0e1013',fg='#7f7f7f',text='DAY')\n",
    "    label2.place(x=450, y=90)\n",
    "\n",
    "    label3=Label(frame, font=('Century Gothic',10),bg='#0e1013',fg='#7f7f7f',text='HOURS')\n",
    "    label3.place(x=50, y=90)\n",
    "\n",
    "    label4=Label(frame, font=('Century Gothic',10),bg='#0e1013',fg='#7f7f7f',text='MINUTES')\n",
    "    label4.place(x=150, y=90)\n",
    " \n",
    "    label5=Label(frame, font=('Century Gothic',10),bg='#0e1013',fg='#7f7f7f',text='SECONDS')\n",
    "    label5.place(x=280, y=90)\n",
    "\n",
    "labels()\n",
    "\n",
    "WIN.mainloop()"
   ]
  }
 ],
 "metadata": {
  "kernelspec": {
   "display_name": "Python 3 (ipykernel)",
   "language": "python",
   "name": "python3"
  },
  "language_info": {
   "codemirror_mode": {
    "name": "ipython",
    "version": 3
   },
   "file_extension": ".py",
   "mimetype": "text/x-python",
   "name": "python",
   "nbconvert_exporter": "python",
   "pygments_lexer": "ipython3",
   "version": "3.10.11"
  }
 },
 "nbformat": 4,
 "nbformat_minor": 5
}
